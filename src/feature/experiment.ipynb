{
 "cells": [
  {
   "cell_type": "code",
   "execution_count": 1,
   "metadata": {},
   "outputs": [],
   "source": [
    "import pandas as pd\n",
    "from deepface import DeepFace\n",
    "from tqdm import tqdm\n",
    "import cv2\n",
    "import timeit\n",
    "import os\n",
    "import glob\n",
    "from deepface.commons import functions\n",
    "import numpy as np\n",
    "import operator"
   ]
  },
  {
   "cell_type": "code",
   "execution_count": 3,
   "metadata": {},
   "outputs": [],
   "source": [
    "model_names = ['Facenet512','Facenet','ArcFace', 'Dlib']"
   ]
  },
  {
   "cell_type": "code",
   "execution_count": null,
   "metadata": {},
   "outputs": [],
   "source": [
    "def load_data():\n",
    "    name_list = []\n",
    "    data_list = []\n",
    "    data_path = 'D:\\Code\\FaceRecognition\\FaceCollection2'\n",
    "    folder_list = os.listdir(data_path)\n",
    "    for folder in folder_list:\n",
    "        img_list = []\n",
    "        name_list.append(folder)\n",
    "        for file in glob.glob(os.path.join(data_path, folder)+'/*.jpg'):\n",
    "            img =  cv2.imread(file)\n",
    "            img_list.append(img)\n",
    "        data_list.append(img_list)\n",
    "    return data_list, name_list"
   ]
  },
  {
   "cell_type": "code",
   "execution_count": 18,
   "metadata": {},
   "outputs": [],
   "source": [
    "def strip_str(name):\n",
    "     return name.replace('D:\\\\Code\\\\thesis\\\\face-service\\\\data/', '').split('_')[0]\n",
    "     \n",
    "def find_identity(df):\n",
    "    name_list = df.apply(lambda x: strip_str(x['identity']), axis=1)\n",
    "    name_dict = {}\n",
    "    for name in name_list:\n",
    "        if name in name_dict:\n",
    "            name_dict[name] += 1\n",
    "        else:\n",
    "            name_dict[name] = 1\n",
    "    result = max(name_dict.items(), key=operator.itemgetter(1))[0]\n",
    "    if result == 'nqKhanh':\n",
    "        return 1\n",
    "    return 0"
   ]
  },
  {
   "cell_type": "code",
   "execution_count": 4,
   "metadata": {},
   "outputs": [],
   "source": [
    "accuracy_list = [[[0.61, 18.06086889999915],\n",
    "  [0.66, 18.16811950000283],\n",
    "  [0.96, 19.017158300003757],\n",
    "  [0.78, 18.816163400001642],\n",
    "  [0.87, 18.662299800001165]],\n",
    " [[0.93, 32.86458500000117],\n",
    "  [0.99, 31.89993179999965],\n",
    "  [0.93, 32.19205199999851],\n",
    "  [0.95, 32.35461339999347],\n",
    "  [0.15, 32.107579100000294]],\n",
    " [[1.0, 17.432974700006525],\n",
    "  [0.93, 17.07743959999607],\n",
    "  [1.0, 17.463534499999696],\n",
    "  [0.98, 17.872110300000713],\n",
    "  [1.0, 18.0693102000032]],\n",
    " [[0.98, 21.626795799995307],\n",
    "  [1.0, 21.60042330000033],\n",
    "  [0.99, 21.99735200000032],\n",
    "  [1.0, 22.472577000007732],\n",
    "  [1.0, 25.76450029999998]],\n",
    " [[0.99, 42.32859440000129],\n",
    "  [0.87, 41.59291469999789],\n",
    "  [0.83, 42.06902819999959],\n",
    "  [0.96, 41.77217209999799],\n",
    "  [0.94, 41.5965492000023]]]"
   ]
  },
  {
   "cell_type": "code",
   "execution_count": 5,
   "metadata": {},
   "outputs": [],
   "source": [
    "accuracy_list = []"
   ]
  },
  {
   "cell_type": "code",
   "execution_count": 5,
   "metadata": {},
   "outputs": [],
   "source": [
    "acc_list = []\n",
    "for acc in accuracy_list:\n",
    "    model_acc = []\n",
    "    for element in acc:\n",
    "        model_acc.append(element[0])\n",
    "    acc_list.append(model_acc)\n",
    "    model_acc = []\n",
    "rows = ['run_1_accuracy', 'run_2_accuracy', 'run_3_accuracy', 'run_4_accuracy', 'run_5_accuracy']\n",
    "acc_df = pd.DataFrame(data=acc_list, index=model_names, columns=rows).transpose()"
   ]
  },
  {
   "cell_type": "code",
   "execution_count": 6,
   "metadata": {},
   "outputs": [],
   "source": [
    "time_list = []\n",
    "for acc in accuracy_list:\n",
    "    model_acc = []\n",
    "    for element in acc:\n",
    "        model_acc.append(element[1])\n",
    "    time_list.append(model_acc)\n",
    "    model_acc = []\n",
    "\n",
    "rows = ['run_1_time', 'run_2_time', 'run_3_time', 'run_4_time', 'run_5_time']\n",
    "time_df = pd.DataFrame(data=time_list, index=model_names, columns=rows).transpose()"
   ]
  },
  {
   "cell_type": "markdown",
   "metadata": {},
   "source": [
    "Detector Analysis"
   ]
  },
  {
   "cell_type": "code",
   "execution_count": 7,
   "metadata": {},
   "outputs": [],
   "source": [
    "detectors = ['retinaface', 'mtcnn', 'ssd', 'dlib']\n",
    "detector_time = []"
   ]
  },
  {
   "cell_type": "code",
   "execution_count": null,
   "metadata": {},
   "outputs": [],
   "source": [
    "cap = cv2.VideoCapture(0)\n",
    "cap.set(cv2.CAP_PROP_FRAME_WIDTH,640)\n",
    "cap.set(cv2.CAP_PROP_FRAME_HEIGHT,480)\n",
    "execution_time = 0\n",
    "counter = 0\n",
    "for detector in detectors:\n",
    "    while counter < 100:\n",
    "        isSuccess, frame = cap.read()\n",
    "        if isSuccess:\n",
    "            start = timeit.default_timer()\n",
    "            try:\n",
    "                detect_df = DeepFace.detectFace(frame, detector_backend = detector)\n",
    "                print(counter)\n",
    "                counter += 1\n",
    "            except Exception as e:\n",
    "                print(e)\n",
    "                continue\n",
    "            execution_time += timeit.default_timer() - start\n",
    "    counter = 0\n",
    "    detector_time.append(execution_time)\n",
    "    execution_time = 0\n",
    "cap.release()"
   ]
  },
  {
   "cell_type": "code",
   "execution_count": 13,
   "metadata": {},
   "outputs": [
    {
     "data": {
      "text/plain": [
       "[164.53420770000037, 85.29072970000072, 3.836585499999501, 14.025797900000384]"
      ]
     },
     "execution_count": 13,
     "metadata": {},
     "output_type": "execute_result"
    }
   ],
   "source": [
    "detector_time"
   ]
  },
  {
   "cell_type": "markdown",
   "metadata": {},
   "source": [
    "Face Recognition Analysis"
   ]
  },
  {
   "cell_type": "code",
   "execution_count": 4,
   "metadata": {},
   "outputs": [],
   "source": [
    "model_list = []\n",
    "for model_name in model_names:\n",
    "    model = DeepFace.build_model(model_name)\n",
    "    model_list.append(model)"
   ]
  },
  {
   "cell_type": "code",
   "execution_count": 138,
   "metadata": {},
   "outputs": [],
   "source": [
    "cosine_list = [[] for i in range(4)]\n",
    "euclidean_list = [[] for i in range(4)]"
   ]
  },
  {
   "cell_type": "code",
   "execution_count": 110,
   "metadata": {},
   "outputs": [],
   "source": [
    "euclidean_list = [[] for i in range(4)]"
   ]
  },
  {
   "cell_type": "code",
   "execution_count": 92,
   "metadata": {},
   "outputs": [],
   "source": [
    "\n",
    "l2_list = [[] for i in range(4)]"
   ]
  },
  {
   "cell_type": "code",
   "execution_count": 17,
   "metadata": {},
   "outputs": [
    {
     "data": {
      "text/plain": [
       "[[[0.26, 26.57102080000027],\n",
       "  [0.16, 26.316927799999576],\n",
       "  [1.0, 29.407511400000203],\n",
       "  [0.98, 49.905904300000884]],\n",
       " [[0.26, 26.57102080000027],\n",
       "  [0.16, 26.316927799999576],\n",
       "  [1.0, 29.407511400000203],\n",
       "  [0.98, 49.905904300000884]],\n",
       " [[0.26, 26.57102080000027],\n",
       "  [0.16, 26.316927799999576],\n",
       "  [1.0, 29.407511400000203],\n",
       "  [0.98, 49.905904300000884]],\n",
       " [[0.26, 26.57102080000027],\n",
       "  [0.16, 26.316927799999576],\n",
       "  [1.0, 29.407511400000203],\n",
       "  [0.98, 49.905904300000884]],\n",
       " [[0.26, 26.57102080000027],\n",
       "  [0.16, 26.316927799999576],\n",
       "  [1.0, 29.407511400000203],\n",
       "  [0.98, 49.905904300000884]]]"
      ]
     },
     "execution_count": 17,
     "metadata": {},
     "output_type": "execute_result"
    }
   ],
   "source": [
    "accuracy_list"
   ]
  },
  {
   "cell_type": "code",
   "execution_count": 7,
   "metadata": {},
   "outputs": [],
   "source": [
    "data_path = 'D:\\Code\\\\thesis\\\\face-service\\data'"
   ]
  },
  {
   "cell_type": "code",
   "execution_count": 131,
   "metadata": {},
   "outputs": [],
   "source": [
    "euclidean_list = [[] for i in range(4)]"
   ]
  },
  {
   "cell_type": "code",
   "execution_count": null,
   "metadata": {},
   "outputs": [],
   "source": [
    "cap = cv2.VideoCapture(0)\n",
    "cap.set(cv2.CAP_PROP_FRAME_WIDTH,640)\n",
    "cap.set(cv2.CAP_PROP_FRAME_HEIGHT,480)\n",
    "for model_idx in range(4):\n",
    "    print(model_names[model_idx])\n",
    "    execution_time = 0\n",
    "    counter = 0 \n",
    "    result = 0\n",
    "    while counter < 100:\n",
    "        isSuccess, frame = cap.read()\n",
    "        if isSuccess:\n",
    "            try:\n",
    "                start = timeit.default_timer()\n",
    "                recog_df = DeepFace.find(frame, data_path, model_name=model_names[model_idx], \n",
    "                    model=model_list[model_idx], enforce_detection = False, detector_backend = 'ssd', \n",
    "                    distance_metric = 'cosine', prog_bar = False)\n",
    "                execution_time += timeit.default_timer() - start\n",
    "                result += find_identity(recog_df)\n",
    "                counter += 1\n",
    "            except Exception as e:\n",
    "                print(e)\n",
    "                continue\n",
    "    cosine_list[model_idx].append([result/100, execution_time])\n",
    "    print(result)\n",
    "cap.release()"
   ]
  },
  {
   "cell_type": "code",
   "execution_count": 84,
   "metadata": {},
   "outputs": [],
   "source": [
    "import statistics\n",
    "def statistic(model_list):\n",
    "    stat_list = []\n",
    "    for model in model_list:\n",
    "        zip_list = list(zip(*model))\n",
    "        stat_list.append([statistics.mean(zip_list[0]), statistics.stdev(zip_list[0]),statistics.mean(zip_list[1]), statistics.stdev(zip_list[1])])\n",
    "    return stat_list"
   ]
  },
  {
   "cell_type": "code",
   "execution_count": 89,
   "metadata": {},
   "outputs": [
    {
     "data": {
      "text/plain": [
       "[[0.908, 0.11945710527214361, 47.57830415998469, 7.201537433469617],\n",
       " [1.0, 0.0, 44.36174853999182, 5.1682946359114315],\n",
       " [0.998, 0.004472135954999584, 53.03711875999579, 7.088326370258129],\n",
       " [0.978, 0.021679483388678818, 60.46693387999985, 6.260448541295121]]"
      ]
     },
     "execution_count": 89,
     "metadata": {},
     "output_type": "execute_result"
    }
   ],
   "source": [
    "statistic(cosine_list)"
   ]
  },
  {
   "cell_type": "code",
   "execution_count": 124,
   "metadata": {},
   "outputs": [],
   "source": [
    "cosine_list = [[[0.73, 36.20990559999336],\n",
    "  [1.0, 54.71188229997642],\n",
    "  [0.84, 46.56072389999463],\n",
    "  [1.0, 47.705422999970324],\n",
    "  [0.97, 52.70358599998872]],\n",
    " [[1.0, 36.61921629999051],\n",
    "  [1.0, 47.94767299999876],\n",
    "  [1.0, 43.154903399983596],\n",
    "  [0.99, 44.026885099996434],\n",
    "  [1.0, 50.06006489998981]],\n",
    " [[1.0, 46.80421000000206],\n",
    "  [1.0, 62.538419599961344],\n",
    "  [1.0, 45.269812399979855],\n",
    "  [0.99, 54.449183900022035],\n",
    "  [1.0, 56.12396790001367]],\n",
    " [[0.99, 65.50113210000563],\n",
    "  [0.99, 68.42477729999882],\n",
    "  [0.98, 53.57014010000057],\n",
    "  [0.94, 56.42919570002414],\n",
    "  [0.99, 58.40942419997009]]]"
   ]
  },
  {
   "cell_type": "code",
   "execution_count": 122,
   "metadata": {},
   "outputs": [],
   "source": [
    "euclidean_list = [[[1.0, 29.027755599992815],\n",
    "  [1.0, 31.068192200005797],\n",
    "  [1.0, 31.852599499999997],\n",
    "  [0.89, 34.4521765999998],\n",
    "  [0.97, 39.68881460000193]],\n",
    " [[1.0, 28.754929000004267],\n",
    "  [1.0, 28.802104300008068],\n",
    "  [1.0, 30.306551800002126],\n",
    "  [1.0, 32.25911030001225],\n",
    "  [1.0, 32.79092109998237]],\n",
    " [[0.96, 31.234213299980183],\n",
    "  [1.0, 34.78124369999205],\n",
    "  [1.0, 36.26221949999854],\n",
    "  [0.81, 37.92781330000071],\n",
    "  [0.81, 41.62178700000368]],\n",
    " [[0.79, 49.51751659999172],\n",
    "  [0.99, 49.55332610000369],\n",
    "  [0.97, 50.37510359999578],\n",
    "  [0.98, 54.868490599987126],\n",
    "  [0.96, 51.542043700006616]]]"
   ]
  },
  {
   "cell_type": "code",
   "execution_count": 120,
   "metadata": {},
   "outputs": [
    {
     "data": {
      "text/plain": [
       "[[[0.99, 27.61805440000535],\n",
       "  [0.87, 28.054645199999868],\n",
       "  [0.93, 29.315378500015868],\n",
       "  [0.94, 33.39994939999815],\n",
       "  [0.88, 27.894617400001152]],\n",
       " [[1.0, 24.8455948000028],\n",
       "  [1.0, 25.189252399990437],\n",
       "  [1.0, 26.98294670001451],\n",
       "  [1.0, 33.406234699998095],\n",
       "  [0.98, 27.259793199988053]],\n",
       " [[1.0, 30.605549100004282],\n",
       "  [0.94, 31.679302799999277],\n",
       "  [1.0, 32.40095609999844],\n",
       "  [0.95, 36.18569260000368],\n",
       "  [1.0, 32.87179690000812]],\n",
       " [[0.95, 48.198182899997846],\n",
       "  [0.89, 48.96531790001063],\n",
       "  [0.95, 48.576979400007986],\n",
       "  [0.85, 53.79500600000392],\n",
       "  [0.99, 49.58373099999881]]]"
      ]
     },
     "execution_count": 120,
     "metadata": {},
     "output_type": "execute_result"
    }
   ],
   "source": [
    "l2_list"
   ]
  },
  {
   "cell_type": "code",
   "execution_count": 125,
   "metadata": {},
   "outputs": [
    {
     "data": {
      "text/plain": [
       "[[0.908, 0.11945710527214361, 47.57830415998469, 7.201537433469617],\n",
       " [1.0, 0.0, 44.36174853999182, 5.1682946359114315],\n",
       " [0.998, 0.004472135954999584, 53.03711875999579, 7.088326370258129],\n",
       " [0.978, 0.021679483388678818, 60.46693387999985, 6.260448541295121]]"
      ]
     },
     "execution_count": 125,
     "metadata": {},
     "output_type": "execute_result"
    }
   ],
   "source": [
    "statistic(cosine_list)"
   ]
  },
  {
   "cell_type": "code",
   "execution_count": 31,
   "metadata": {},
   "outputs": [
    {
     "data": {
      "text/plain": [
       "[[[0.37, 17.712876600000527],\n",
       "  [0.69, 20.3920916999989],\n",
       "  [0.89, 19.433008600001358],\n",
       "  [0.9, 27.823499200001606],\n",
       "  [1.0, 28.142415999998775]],\n",
       " [[1.0, 17.093423800000664],\n",
       "  [1.0, 18.25628979999965],\n",
       "  [0.98, 18.086914000000434],\n",
       "  [1.0, 27.554324899989297],\n",
       "  [1.0, 25.967896400003156]],\n",
       " [[0.83, 20.787307600000986],\n",
       "  [0.57, 22.667432699998017],\n",
       "  [0.94, 23.334960199998932],\n",
       "  [0.8, 35.4555137000134],\n",
       "  [1.0, 30.56008609998935]],\n",
       " [[0.76, 41.55613439999888],\n",
       "  [0.85, 41.779333600001564],\n",
       "  [0.95, 41.36670300000196],\n",
       "  [1.0, 47.31762849999359],\n",
       "  [0.94, 48.52399479999258]]]"
      ]
     },
     "execution_count": 31,
     "metadata": {},
     "output_type": "execute_result"
    }
   ],
   "source": [
    "euclidean_list"
   ]
  },
  {
   "cell_type": "code",
   "execution_count": 21,
   "metadata": {},
   "outputs": [
    {
     "data": {
      "text/plain": [
       "[[[0.43, 22.59947630000022],\n",
       "  [0.52, 19.100721499999963],\n",
       "  [0.28, 20.853718600000775],\n",
       "  [0.55, 18.595263299999488],\n",
       "  [0.73, 18.593923299999688]],\n",
       " [[0.78, 21.559959100000185],\n",
       "  [0.69, 18.81461230000059],\n",
       "  [0.72, 19.88532500000008],\n",
       "  [0.84, 16.648657700000513],\n",
       "  [0.54, 16.25402960000156]],\n",
       " [[1.0, 24.51031200000034],\n",
       "  [1.0, 23.353709699999627],\n",
       "  [0.99, 24.779718099999855],\n",
       "  [1.0, 21.932723699999315],\n",
       "  [1.0, 21.086769200000845]],\n",
       " [[0.4, 42.3296241999999],\n",
       "  [0.28, 41.062457100000756],\n",
       "  [0.27, 42.005547199999796],\n",
       "  [0.18, 40.90087110000104],\n",
       "  [0.15, 41.101149499998655]]]"
      ]
     },
     "execution_count": 21,
     "metadata": {},
     "output_type": "execute_result"
    }
   ],
   "source": [
    "cosine_list"
   ]
  },
  {
   "cell_type": "code",
   "execution_count": null,
   "metadata": {},
   "outputs": [],
   "source": [
    "counter = 0\n",
    "result = 0\n",
    "cap = cv2.VideoCapture(0)\n",
    "cap.set(cv2.CAP_PROP_FRAME_WIDTH,640)\n",
    "cap.set(cv2.CAP_PROP_FRAME_HEIGHT,480)\n",
    "while counter < 200:\n",
    "    isSuccess, frame = cap.read()\n",
    "    if isSuccess:\n",
    "        try:\n",
    "            start = timeit.default_timer()\n",
    "            recog_df = DeepFace.find(frame, data_path, model_name='Facenet', enforce_detection = False, detector_backend = 'ssd', \n",
    "                distance_metric = 'cosine', prog_bar = False)\n",
    "            execution_time += timeit.default_timer() - start\n",
    "            result += find_identity(recog_df)\n",
    "            counter += 1\n",
    "        except Exception as e:\n",
    "            print(e)\n",
    "            continue\n",
    "cap.release()"
   ]
  },
  {
   "cell_type": "code",
   "execution_count": 60,
   "metadata": {},
   "outputs": [
    {
     "data": {
      "text/html": [
       "<div>\n",
       "<style scoped>\n",
       "    .dataframe tbody tr th:only-of-type {\n",
       "        vertical-align: middle;\n",
       "    }\n",
       "\n",
       "    .dataframe tbody tr th {\n",
       "        vertical-align: top;\n",
       "    }\n",
       "\n",
       "    .dataframe thead th {\n",
       "        text-align: right;\n",
       "    }\n",
       "</style>\n",
       "<table border=\"1\" class=\"dataframe\">\n",
       "  <thead>\n",
       "    <tr style=\"text-align: right;\">\n",
       "      <th></th>\n",
       "      <th>identity</th>\n",
       "      <th>Facenet512_euclidean_l2</th>\n",
       "    </tr>\n",
       "  </thead>\n",
       "  <tbody>\n",
       "    <tr>\n",
       "      <th>0</th>\n",
       "      <td>D:\\Code\\thesis\\face-service\\data/ntCong_3.jpg</td>\n",
       "      <td>0.685952</td>\n",
       "    </tr>\n",
       "    <tr>\n",
       "      <th>1</th>\n",
       "      <td>D:\\Code\\thesis\\face-service\\data/ntCong_4.jpg</td>\n",
       "      <td>0.702226</td>\n",
       "    </tr>\n",
       "    <tr>\n",
       "      <th>2</th>\n",
       "      <td>D:\\Code\\thesis\\face-service\\data/nqKhanh_7.jpg</td>\n",
       "      <td>0.728524</td>\n",
       "    </tr>\n",
       "    <tr>\n",
       "      <th>3</th>\n",
       "      <td>D:\\Code\\thesis\\face-service\\data/nqKhanh_2.jpg</td>\n",
       "      <td>0.730323</td>\n",
       "    </tr>\n",
       "    <tr>\n",
       "      <th>4</th>\n",
       "      <td>D:\\Code\\thesis\\face-service\\data/ntCong_1.jpg</td>\n",
       "      <td>0.791848</td>\n",
       "    </tr>\n",
       "    <tr>\n",
       "      <th>5</th>\n",
       "      <td>D:\\Code\\thesis\\face-service\\data/nqKhanh_6.jpg</td>\n",
       "      <td>0.795394</td>\n",
       "    </tr>\n",
       "    <tr>\n",
       "      <th>6</th>\n",
       "      <td>D:\\Code\\thesis\\face-service\\data/nqKhanh_8.jpg</td>\n",
       "      <td>0.799815</td>\n",
       "    </tr>\n",
       "    <tr>\n",
       "      <th>7</th>\n",
       "      <td>D:\\Code\\thesis\\face-service\\data/ntCong_6.jpg</td>\n",
       "      <td>0.800365</td>\n",
       "    </tr>\n",
       "    <tr>\n",
       "      <th>8</th>\n",
       "      <td>D:\\Code\\thesis\\face-service\\data/nqKhanh_1.jpg</td>\n",
       "      <td>0.838037</td>\n",
       "    </tr>\n",
       "    <tr>\n",
       "      <th>9</th>\n",
       "      <td>D:\\Code\\thesis\\face-service\\data/ntCong_7.jpg</td>\n",
       "      <td>0.849406</td>\n",
       "    </tr>\n",
       "    <tr>\n",
       "      <th>10</th>\n",
       "      <td>D:\\Code\\thesis\\face-service\\data/nqKhanh_3.jpg</td>\n",
       "      <td>0.861210</td>\n",
       "    </tr>\n",
       "    <tr>\n",
       "      <th>11</th>\n",
       "      <td>D:\\Code\\thesis\\face-service\\data/nqKhanh_0.jpg</td>\n",
       "      <td>0.890351</td>\n",
       "    </tr>\n",
       "    <tr>\n",
       "      <th>12</th>\n",
       "      <td>D:\\Code\\thesis\\face-service\\data/pvHieu_7.jpg</td>\n",
       "      <td>0.895887</td>\n",
       "    </tr>\n",
       "    <tr>\n",
       "      <th>13</th>\n",
       "      <td>D:\\Code\\thesis\\face-service\\data/ntCong_0.jpg</td>\n",
       "      <td>0.910158</td>\n",
       "    </tr>\n",
       "    <tr>\n",
       "      <th>14</th>\n",
       "      <td>D:\\Code\\thesis\\face-service\\data/pvHieu_9.jpg</td>\n",
       "      <td>0.914536</td>\n",
       "    </tr>\n",
       "    <tr>\n",
       "      <th>15</th>\n",
       "      <td>D:\\Code\\thesis\\face-service\\data/ntCong_5.jpg</td>\n",
       "      <td>0.914872</td>\n",
       "    </tr>\n",
       "    <tr>\n",
       "      <th>16</th>\n",
       "      <td>D:\\Code\\thesis\\face-service\\data/pvHieu_0.jpg</td>\n",
       "      <td>0.928622</td>\n",
       "    </tr>\n",
       "    <tr>\n",
       "      <th>17</th>\n",
       "      <td>D:\\Code\\thesis\\face-service\\data/nqKhanh_4.jpg</td>\n",
       "      <td>0.953414</td>\n",
       "    </tr>\n",
       "    <tr>\n",
       "      <th>18</th>\n",
       "      <td>D:\\Code\\thesis\\face-service\\data/nqKhanh_9.jpg</td>\n",
       "      <td>0.964152</td>\n",
       "    </tr>\n",
       "    <tr>\n",
       "      <th>19</th>\n",
       "      <td>D:\\Code\\thesis\\face-service\\data/pvHieu_3.jpg</td>\n",
       "      <td>0.991918</td>\n",
       "    </tr>\n",
       "  </tbody>\n",
       "</table>\n",
       "</div>"
      ],
      "text/plain": [
       "                                          identity  Facenet512_euclidean_l2\n",
       "0    D:\\Code\\thesis\\face-service\\data/ntCong_3.jpg                 0.685952\n",
       "1    D:\\Code\\thesis\\face-service\\data/ntCong_4.jpg                 0.702226\n",
       "2   D:\\Code\\thesis\\face-service\\data/nqKhanh_7.jpg                 0.728524\n",
       "3   D:\\Code\\thesis\\face-service\\data/nqKhanh_2.jpg                 0.730323\n",
       "4    D:\\Code\\thesis\\face-service\\data/ntCong_1.jpg                 0.791848\n",
       "5   D:\\Code\\thesis\\face-service\\data/nqKhanh_6.jpg                 0.795394\n",
       "6   D:\\Code\\thesis\\face-service\\data/nqKhanh_8.jpg                 0.799815\n",
       "7    D:\\Code\\thesis\\face-service\\data/ntCong_6.jpg                 0.800365\n",
       "8   D:\\Code\\thesis\\face-service\\data/nqKhanh_1.jpg                 0.838037\n",
       "9    D:\\Code\\thesis\\face-service\\data/ntCong_7.jpg                 0.849406\n",
       "10  D:\\Code\\thesis\\face-service\\data/nqKhanh_3.jpg                 0.861210\n",
       "11  D:\\Code\\thesis\\face-service\\data/nqKhanh_0.jpg                 0.890351\n",
       "12   D:\\Code\\thesis\\face-service\\data/pvHieu_7.jpg                 0.895887\n",
       "13   D:\\Code\\thesis\\face-service\\data/ntCong_0.jpg                 0.910158\n",
       "14   D:\\Code\\thesis\\face-service\\data/pvHieu_9.jpg                 0.914536\n",
       "15   D:\\Code\\thesis\\face-service\\data/ntCong_5.jpg                 0.914872\n",
       "16   D:\\Code\\thesis\\face-service\\data/pvHieu_0.jpg                 0.928622\n",
       "17  D:\\Code\\thesis\\face-service\\data/nqKhanh_4.jpg                 0.953414\n",
       "18  D:\\Code\\thesis\\face-service\\data/nqKhanh_9.jpg                 0.964152\n",
       "19   D:\\Code\\thesis\\face-service\\data/pvHieu_3.jpg                 0.991918"
      ]
     },
     "execution_count": 60,
     "metadata": {},
     "output_type": "execute_result"
    }
   ],
   "source": [
    "recog_df"
   ]
  },
  {
   "cell_type": "code",
   "execution_count": 42,
   "metadata": {},
   "outputs": [
    {
     "data": {
      "text/plain": [
       "[[[0.19, 30.1528842000007],\n",
       "  [0.18, 24.89385400000083],\n",
       "  [0.22, 26.590901899999153]],\n",
       " [[0.97, 26.6243380000019],\n",
       "  [0.76, 22.631260299998758],\n",
       "  [0.3, 23.400346699999318]],\n",
       " [[0.98, 29.51036310000154],\n",
       "  [0.98, 28.343029699999533],\n",
       "  [0.86, 30.197138300004553]],\n",
       " [[0.91, 50.08426859999963],\n",
       "  [0.86, 49.58961339999905],\n",
       "  [0.74, 53.028644500001064]]]"
      ]
     },
     "execution_count": 42,
     "metadata": {},
     "output_type": "execute_result"
    }
   ],
   "source": [
    "accuracy_list"
   ]
  },
  {
   "cell_type": "code",
   "execution_count": 38,
   "metadata": {},
   "outputs": [],
   "source": [
    "\n",
    "name_list = recog_df.apply(lambda x: strip_str(x['identity']), axis=1)\n",
    "name_dict = {}\n",
    "for name in name_list:\n",
    "    if name in name_dict:\n",
    "        name_dict[name] += 1\n",
    "    else:\n",
    "        name_dict[name] = 1"
   ]
  },
  {
   "cell_type": "code",
   "execution_count": 20,
   "metadata": {},
   "outputs": [
    {
     "data": {
      "text/plain": [
       "[[[0.61, 18.06086889999915],\n",
       "  [0.66, 18.16811950000283],\n",
       "  [0.96, 19.017158300003757],\n",
       "  [0.78, 18.816163400001642],\n",
       "  [0.87, 18.662299800001165]],\n",
       " [[0.93, 32.86458500000117],\n",
       "  [0.99, 31.89993179999965],\n",
       "  [0.93, 32.19205199999851],\n",
       "  [0.95, 32.35461339999347],\n",
       "  [0.15, 32.107579100000294]],\n",
       " [[1.0, 17.432974700006525],\n",
       "  [1.0, 17.07743959999607],\n",
       "  [1.0, 17.463534499999696],\n",
       "  [1.0, 17.872110300000713],\n",
       "  [1.0, 18.0693102000032]],\n",
       " [[0.98, 21.626795799995307],\n",
       "  [1.0, 21.60042330000033],\n",
       "  [0.99, 21.99735200000032],\n",
       "  [1.0, 22.472577000007732],\n",
       "  [1.0, 25.76450029999998]],\n",
       " [[0.99, 42.32859440000129],\n",
       "  [0.87, 41.59291469999789],\n",
       "  [0.83, 42.06902819999959],\n",
       "  [0.96, 41.77217209999799],\n",
       "  [0.94, 41.5965492000023]]]"
      ]
     },
     "execution_count": 20,
     "metadata": {},
     "output_type": "execute_result"
    }
   ],
   "source": [
    "accuracy_list"
   ]
  },
  {
   "cell_type": "code",
   "execution_count": null,
   "metadata": {},
   "outputs": [],
   "source": [
    "data_path = 'D:\\Code\\\\thesis\\\\face-service\\data'\n",
    "cap = cv2.VideoCapture(0)\n",
    "cap.set(cv2.CAP_PROP_FRAME_WIDTH,640)\n",
    "cap.set(cv2.CAP_PROP_FRAME_HEIGHT,480)\n",
    "execution_time = 0\n",
    "counter = 0\n",
    "result = 0\n",
    "while counter < 100:\n",
    "    isSuccess, frame = cap.read()\n",
    "    if isSuccess:\n",
    "        try:\n",
    "            recog_df = DeepFace.find(frame, data_path, model_name=model_names[1], enforce_detection = False, detector_backend = 'ssd')\n",
    "            result += find_identity(recog_df[0]) \n",
    "            counter += 1\n",
    "        except Exception as e:\n",
    "            print(e)\n",
    "            continue\n",
    "cap.release()"
   ]
  },
  {
   "cell_type": "code",
   "execution_count": null,
   "metadata": {},
   "outputs": [],
   "source": [
    "data_path = 'D:\\Code\\\\thesis\\\\face-service\\data'\n",
    "cap = cv2.VideoCapture(0)\n",
    "cap.set(cv2.CAP_PROP_FRAME_WIDTH,640)\n",
    "cap.set(cv2.CAP_PROP_FRAME_HEIGHT,480)\n",
    "execution_time = 0\n",
    "counter = 0\n",
    "result = 0\n",
    "frame = 'D:\\Code\\\\thesis\\\\face-service\\data\\\\ntCong_1.jpg'\n",
    "while counter < 100:\n",
    "    try:\n",
    "        recog_df = DeepFace.find(frame, data_path, model_name=model_names[1], enforce_detection = False, detector_backend = 'ssd')\n",
    "        result += find_identity(recog_df[0]) \n",
    "        counter += 1\n",
    "    except Exception as e:\n",
    "        print(e)\n",
    "        continue\n",
    "cap.release()"
   ]
  },
  {
   "cell_type": "code",
   "execution_count": 23,
   "metadata": {},
   "outputs": [
    {
     "data": {
      "text/plain": [
       "100"
      ]
     },
     "execution_count": 23,
     "metadata": {},
     "output_type": "execute_result"
    }
   ],
   "source": [
    "result"
   ]
  },
  {
   "cell_type": "code",
   "execution_count": 21,
   "metadata": {},
   "outputs": [],
   "source": [
    "def strip_str(name):\n",
    "     return name.replace('D:\\\\Code\\\\thesis\\\\face-service\\\\data/', '').split('_')[0]\n",
    "     \n",
    "def find_identity(df):\n",
    "    name_list = df.apply(lambda x: strip_str(x['identity']), axis=1)\n",
    "    name_dict = {}\n",
    "    for name in name_list:\n",
    "        if name in name_dict:\n",
    "            name_dict[name] += 1\n",
    "        else:\n",
    "            name_dict[name] = 1\n",
    "    result = max(name_dict.items(), key=operator.itemgetter(1))[0]\n",
    "    if result == 'ntCong':\n",
    "        return 1\n",
    "    return 0"
   ]
  },
  {
   "cell_type": "code",
   "execution_count": 18,
   "metadata": {},
   "outputs": [],
   "source": [
    "def create_data():\n",
    "    data_path = 'D:\\Code\\FaceRecognition\\FaceCollection2'\n",
    "    store_path = 'D:\\Code\\\\thesis\\\\face-service\\data'\n",
    "    folder_list = os.listdir(data_path)\n",
    "    for folder in folder_list:\n",
    "        idx = 0\n",
    "        for file in glob.glob(os.path.join(data_path, folder)+'/*.jpg'):\n",
    "            img =  cv2.imread(file)\n",
    "            cv2.imwrite(f\"{store_path}\\{folder}_{idx}.jpg\", img)\n",
    "            idx +=1"
   ]
  },
  {
   "cell_type": "code",
   "execution_count": 33,
   "metadata": {},
   "outputs": [],
   "source": [
    "img_list = []\n",
    "data_folder = os.listdir(data_path)\n",
    "for file in data_folder:\n",
    "    if 'jpg' in file:\n",
    "        img = cv2.imread(f'{data_path}\\{file}')\n",
    "        img_list.append(img)"
   ]
  },
  {
   "cell_type": "code",
   "execution_count": 1,
   "metadata": {},
   "outputs": [],
   "source": [
    "test = [[322.551,\t379.013,\t326.38,\t221.199,\t301.131],\n",
    "[606.306,\t676.534,\t616.503,\t524.922,\t595.964],\n",
    "[317.474,\t364.409,\t313.749,\t231.892,\t311.598],\n",
    "[120.628,\t174.418,\t113.673,\t12.8613,\t93.674]]"
   ]
  },
  {
   "cell_type": "code",
   "execution_count": 5,
   "metadata": {},
   "outputs": [],
   "source": [
    "def average(lst):\n",
    "    return sum(lst) / len(lst)"
   ]
  },
  {
   "cell_type": "code",
   "execution_count": 10,
   "metadata": {},
   "outputs": [
    {
     "data": {
      "text/plain": [
       "103.05085999999999"
      ]
     },
     "execution_count": 10,
     "metadata": {},
     "output_type": "execute_result"
    }
   ],
   "source": [
    "average(test[3])"
   ]
  }
 ],
 "metadata": {
  "kernelspec": {
   "display_name": "Python 3.9.1 ('venv': venv)",
   "language": "python",
   "name": "python3"
  },
  "language_info": {
   "codemirror_mode": {
    "name": "ipython",
    "version": 3
   },
   "file_extension": ".py",
   "mimetype": "text/x-python",
   "name": "python",
   "nbconvert_exporter": "python",
   "pygments_lexer": "ipython3",
   "version": "3.9.1"
  },
  "orig_nbformat": 4,
  "vscode": {
   "interpreter": {
    "hash": "ba187011dfa4c768d9cf5735f3318cf259657424c42651b74a02aee7d4d1bbe9"
   }
  }
 },
 "nbformat": 4,
 "nbformat_minor": 2
}
